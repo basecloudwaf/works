{
 "cells": [
  {
   "cell_type": "code",
   "execution_count": 51,
   "metadata": {},
   "outputs": [],
   "source": [
    "import json"
   ]
  },
  {
   "cell_type": "code",
   "execution_count": 59,
   "metadata": {},
   "outputs": [],
   "source": [
    "import sys"
   ]
  },
  {
   "cell_type": "code",
   "execution_count": 52,
   "metadata": {},
   "outputs": [],
   "source": [
    "sdate='2018-04-08'"
   ]
  },
  {
   "cell_type": "code",
   "execution_count": 61,
   "metadata": {},
   "outputs": [
    {
     "data": {
      "text/plain": [
       "'-f'"
      ]
     },
     "execution_count": 61,
     "metadata": {},
     "output_type": "execute_result"
    }
   ],
   "source": [
    "sys.argv[1]"
   ]
  },
  {
   "cell_type": "code",
   "execution_count": null,
   "metadata": {},
   "outputs": [],
   "source": []
  },
  {
   "cell_type": "code",
   "execution_count": 17,
   "metadata": {},
   "outputs": [],
   "source": [
    "f=open('datax/odps2postgresql-refererhostcount-template.json')"
   ]
  },
  {
   "cell_type": "code",
   "execution_count": 18,
   "metadata": {},
   "outputs": [],
   "source": [
    "x=json.load(f)"
   ]
  },
  {
   "cell_type": "code",
   "execution_count": 19,
   "metadata": {},
   "outputs": [
    {
     "data": {
      "text/plain": [
       "{'job': {'content': [{'reader': {'name': 'odpsreader',\n",
       "     'parameter': {'accessId': 'LTAIgyrMA3eSBfuR',\n",
       "      'accessKey': 'Itl4aim0pkD4EYJ0Ustyms0oMiCJAv',\n",
       "      'column': ['referer_host', 'pv', 'uv', 'd'],\n",
       "      'odpsServer': 'http://service.odps.aliyun.com/api',\n",
       "      'packageAuthorizedProject': '',\n",
       "      'partition': ['d=*'],\n",
       "      'project': 'xsd_xsd',\n",
       "      'splitMode': 'record',\n",
       "      'table': 'referer_host_count'}},\n",
       "    'writer': {'name': 'postgresqlwriter',\n",
       "     'parameter': {'column': ['referer_host', 'pv', 'uv', 'd'],\n",
       "      'connection': [{'jdbcUrl': 'jdbc:postgresql://127.0.0.1:5432/xueshandai',\n",
       "        'table': ['referer_host_count']}],\n",
       "      'password': 'Xsd123$',\n",
       "      'postSql': [],\n",
       "      'preSql': ['delete from referer_host_count'],\n",
       "      'username': 'xsd'}}}],\n",
       "  'setting': {'speed': {'channel': '3'}}}}"
      ]
     },
     "execution_count": 19,
     "metadata": {},
     "output_type": "execute_result"
    }
   ],
   "source": [
    "x"
   ]
  },
  {
   "cell_type": "code",
   "execution_count": 38,
   "metadata": {},
   "outputs": [],
   "source": [
    "y=x['job']['content'][0]['reader']['parameter']['partition']"
   ]
  },
  {
   "cell_type": "code",
   "execution_count": 53,
   "metadata": {},
   "outputs": [],
   "source": [
    "x['job']['content'][0]['reader']['parameter']['partition']=['d='+sdate]"
   ]
  },
  {
   "cell_type": "code",
   "execution_count": 56,
   "metadata": {},
   "outputs": [],
   "source": [
    "x['job']['content'][0]['writer']['parameter']['preSql']=[\"delete from referer_host_count where d='{}'\".format(sdate)]"
   ]
  },
  {
   "cell_type": "code",
   "execution_count": 57,
   "metadata": {},
   "outputs": [
    {
     "data": {
      "text/plain": [
       "{'job': {'content': [{'reader': {'name': 'odpsreader',\n",
       "     'parameter': {'accessId': 'LTAIgyrMA3eSBfuR',\n",
       "      'accessKey': 'Itl4aim0pkD4EYJ0Ustyms0oMiCJAv',\n",
       "      'column': ['referer_host', 'pv', 'uv', 'd'],\n",
       "      'odpsServer': 'http://service.odps.aliyun.com/api',\n",
       "      'packageAuthorizedProject': '',\n",
       "      'partition': ['d=2018-04-09'],\n",
       "      'project': 'xsd_xsd',\n",
       "      'splitMode': 'record',\n",
       "      'table': 'referer_host_count'}},\n",
       "    'writer': {'name': 'postgresqlwriter',\n",
       "     'parameter': {'column': ['referer_host', 'pv', 'uv', 'd'],\n",
       "      'connection': [{'jdbcUrl': 'jdbc:postgresql://127.0.0.1:5432/xueshandai',\n",
       "        'table': ['referer_host_count']}],\n",
       "      'password': 'Xsd123$',\n",
       "      'postSql': [],\n",
       "      'preSql': [\"delete from referer_host_count where d='2018-04-09'\"],\n",
       "      'username': 'xsd'}}}],\n",
       "  'setting': {'speed': {'channel': '3'}}}}"
      ]
     },
     "execution_count": 57,
     "metadata": {},
     "output_type": "execute_result"
    }
   ],
   "source": [
    "x"
   ]
  },
  {
   "cell_type": "code",
   "execution_count": null,
   "metadata": {},
   "outputs": [],
   "source": []
  }
 ],
 "metadata": {
  "kernelspec": {
   "display_name": "Python 3",
   "language": "python",
   "name": "python3"
  },
  "language_info": {
   "codemirror_mode": {
    "name": "ipython",
    "version": 3
   },
   "file_extension": ".py",
   "mimetype": "text/x-python",
   "name": "python",
   "nbconvert_exporter": "python",
   "pygments_lexer": "ipython3",
   "version": "3.4.5"
  }
 },
 "nbformat": 4,
 "nbformat_minor": 2
}
